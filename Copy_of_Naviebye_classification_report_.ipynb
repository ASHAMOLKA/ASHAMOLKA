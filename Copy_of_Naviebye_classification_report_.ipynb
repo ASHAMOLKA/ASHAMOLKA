{
  "nbformat": 4,
  "nbformat_minor": 0,
  "metadata": {
    "colab": {
      "provenance": [],
      "authorship_tag": "ABX9TyOIQlZuQONlSCBN9o4EHpk2",
      "include_colab_link": true
    },
    "kernelspec": {
      "name": "python3",
      "display_name": "Python 3"
    },
    "language_info": {
      "name": "python"
    }
  },
  "cells": [
    {
      "cell_type": "markdown",
      "metadata": {
        "id": "view-in-github",
        "colab_type": "text"
      },
      "source": [
        "<a href=\"https://colab.research.google.com/github/ASHAMOLKA/ASHAMOLKA/blob/main/Copy_of_Naviebye_classification_report_.ipynb\" target=\"_parent\"><img src=\"https://colab.research.google.com/assets/colab-badge.svg\" alt=\"Open In Colab\"/></a>"
      ]
    },
    {
      "cell_type": "code",
      "execution_count": null,
      "metadata": {
        "id": "T3SL2AsGY3oD"
      },
      "outputs": [],
      "source": [
        "from sklearn.model_selection import train_test_split\n",
        "from sklearn.feature_extraction.text import CountVectorizer\n",
        "\n",
        "from sklearn.naive_bayes import MultinomialNB\n",
        "\n",
        "from sklearn.metrics import accuracy_score, classification_report\n",
        "\n",
        "\n",
        "# Sample data (replace this with your dataset)\n",
        "\n",
        "data = [\n",
        "\n",
        "    (\"I love programming\", \"positive\"),\n",
        "\n",
        "    (\"Machine learning is fascinating\", \"positive\"),\n",
        "\n",
        "    (\"I dislike bugs in my code\", \"negative\"),\n",
        "\n",
        "    (\"Data science is fun\", \"positive\"),\n",
        "\n",
        "    (\"I hate errors\", \"negative\"),\n",
        "\n",
        "]\n",
        "\n",
        "\n",
        "# Separate features (X) and labels (y)\n",
        "X, y = zip(*data)\n",
        "# Split the data into training and testing sets\n",
        "X_train, X_test, y_train, y_test = train_test_split(X, y, test_size=0.2, random_state=42)\n",
        "# Vectorize the text data\n",
        "vectorizer = CountVectorizer()\n",
        "X_train_vectorized = vectorizer.fit_transform(X_train)\n",
        "X_test_vectorized = vectorizer.transform(X_test)\n",
        " # Train the Naive Bayes classifier\n",
        "classifier = MultinomialNB()\n",
        "classifier.fit(X_train_vectorized, y_train)\n",
        " # Make predictions on the test set\n",
        "predictions = classifier.predict(X_test_vectorized)\n",
        " # Evaluate the accuracy\n",
        "accuracy = accuracy_score(y_test, predictions)\n",
        "print(f\"Accuracy: {accuracy}\")\n"
      ]
    }
  ]
}